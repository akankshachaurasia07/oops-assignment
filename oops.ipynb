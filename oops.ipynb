{
  "nbformat": 4,
  "nbformat_minor": 0,
  "metadata": {
    "colab": {
      "provenance": []
    },
    "kernelspec": {
      "name": "python3",
      "display_name": "Python 3"
    },
    "language_info": {
      "name": "python"
    }
  },
  "cells": [
    {
      "cell_type": "code",
      "source": [
        "#1\n",
        "class Animal:\n",
        "  def speak(self):\n",
        "    print(\"bark\")\n",
        "class Dog(Animal):\n",
        "  def __init__(self):\n",
        "    super().speak()\n",
        "c1 = Animal()\n",
        "c1.speak()"
      ],
      "metadata": {
        "colab": {
          "base_uri": "https://localhost:8080/"
        },
        "id": "kaqQqlNW_UV4",
        "outputId": "cb3a8e27-d1ec-49fd-aa7b-b23d9874411a"
      },
      "execution_count": 23,
      "outputs": [
        {
          "output_type": "stream",
          "name": "stdout",
          "text": [
            "bark\n"
          ]
        }
      ]
    },
    {
      "cell_type": "code",
      "source": [
        "#2\n",
        "class Shape:\n",
        "  def area(self):\n",
        "    pass\n",
        "class Rectangle(Shape):\n",
        "  def __init__(self,length,width):\n",
        "    self.length=length\n",
        "    self.width=width\n",
        "  def area(self):\n",
        "     return self.length*self.width\n",
        "class Circle(Shape):\n",
        "  def __init__(self,radius):\n",
        "    self.radius=radius\n",
        "  def area(self):\n",
        "    return 22/7*self.radius**2\n",
        "c1=Rectangle(10,20)\n",
        "print(c1.area())\n",
        "c2=Circle(10)\n",
        "print(c2.area())"
      ],
      "metadata": {
        "colab": {
          "base_uri": "https://localhost:8080/"
        },
        "id": "LeC4aBne_edX",
        "outputId": "70c8d56a-ef07-4468-c7a6-c301f6190baa"
      },
      "execution_count": null,
      "outputs": [
        {
          "output_type": "stream",
          "name": "stdout",
          "text": [
            "200\n",
            "314.2857142857143\n"
          ]
        }
      ]
    },
    {
      "cell_type": "code",
      "source": [
        "# 3\n",
        "class Vehicle:\n",
        "  def __init__(self,type):\n",
        "    self.type=type\n",
        "  def showtype(self):\n",
        "    print(\"vehicle Type =\", self.type)\n",
        "class Car(Vehicle):\n",
        "  def __init__(self,type,model,brand):\n",
        "    super().__init__(type)\n",
        "    self.model=model\n",
        "    self.brand=brand\n",
        "  def showtype(self):\n",
        "    print(\"model =\",self.model)\n",
        "    print(\"brand =\",self.brand)\n",
        "class ElectricCar(Car):\n",
        "  def __init__(self,type,model,brand,battery):\n",
        "    super().__init__(type,model,brand)\n",
        "    self.battery=battery\n",
        "  def showtype(self):\n",
        "    print(\"battery =\",self.battery)\n",
        "tesla=ElectricCar(\"electric\",\"model s\",\"tesla\",100)\n",
        "tesla.showtype()\n",
        "print(tesla.model)\n",
        "print(tesla.brand)\n",
        "print(tesla.type)\n",
        "\n",
        "\n",
        "\n",
        "\n",
        "\n"
      ],
      "metadata": {
        "colab": {
          "base_uri": "https://localhost:8080/"
        },
        "id": "BwKgoaavDjHs",
        "outputId": "b4ea2d77-fbe0-417c-ff1a-3990cc18b07f"
      },
      "execution_count": null,
      "outputs": [
        {
          "output_type": "stream",
          "name": "stdout",
          "text": [
            "battery = 100\n",
            "model s\n",
            "tesla\n",
            "electric\n"
          ]
        }
      ]
    },
    {
      "cell_type": "code",
      "source": [
        "# 4\n",
        "class Bird:\n",
        "    def fly(self):\n",
        "        print(\"Birds can fly.\")\n",
        "\n",
        "class Sparrow(Bird):\n",
        "    def fly(self):\n",
        "        print(\"Sparrow flies high in the sky.\")\n",
        "\n",
        "class Penguin(Bird):\n",
        "    def fly(self):\n",
        "        print(\"Penguins cannot fly but they swim excellently.\")\n",
        "\n",
        "# Polymorphism demonstration\n",
        "def make_bird_fly(bird):\n",
        "    bird.fly()\n",
        "bird1 = Sparrow()\n",
        "bird2 = Penguin()\n",
        "make_bird_fly(bird1)\n",
        "make_bird_fly(bird2)\n"
      ],
      "metadata": {
        "colab": {
          "base_uri": "https://localhost:8080/"
        },
        "id": "LMuT0HVxvj0s",
        "outputId": "e0df8144-9b4d-4fde-8c35-66e37b64a9ee"
      },
      "execution_count": null,
      "outputs": [
        {
          "output_type": "stream",
          "name": "stdout",
          "text": [
            "Sparrow flies high in the sky.\n",
            "Penguins cannot fly but they swim excellently.\n"
          ]
        }
      ]
    },
    {
      "cell_type": "code",
      "source": [
        "# 5\n",
        "class BankAccount:\n",
        "    def __init__(self, initial_balance=0):\n",
        "        self.__balance = initial_balance\n",
        "\n",
        "    def deposit(self, amount):\n",
        "        if amount > 0:\n",
        "            self.__balance += amount\n",
        "            print(f\"Deposited: {amount}. New balance: {self.__balance}\")\n",
        "        else:\n",
        "            print(\"Deposit amount must be positive.\")\n",
        "\n",
        "    def withdraw(self, amount):\n",
        "        if 0 < amount <= self.__balance:\n",
        "            self.__balance -= amount\n",
        "            print(f\"Withdrawn: {amount}. Remaining balance: {self.__balance}\")\n",
        "        else:\n",
        "            print(\"Invalid withdrawal amount or insufficient balance.\")\n",
        "\n",
        "    def check_balance(self):\n",
        "        return self.__balance\n",
        "account = BankAccount(1000)\n",
        "account.deposit(500)\n",
        "account.withdraw(200)\n",
        "print(\"Current balance:\", account.check_balance())\n",
        "\n"
      ],
      "metadata": {
        "colab": {
          "base_uri": "https://localhost:8080/"
        },
        "id": "dbRwg_Llwcn3",
        "outputId": "7fef54b9-3070-48b4-f904-3247e79471cd"
      },
      "execution_count": null,
      "outputs": [
        {
          "output_type": "stream",
          "name": "stdout",
          "text": [
            "Deposited: 500. New balance: 1500\n",
            "Withdrawn: 200. Remaining balance: 1300\n",
            "Current balance: 1300\n"
          ]
        }
      ]
    },
    {
      "cell_type": "code",
      "source": [
        "# 6\n",
        "class Instrument:\n",
        "    def play(self):\n",
        "        raise NotImplementedError(\"Subclasses must implement this method\")\n",
        "\n",
        "class Guitar(Instrument):\n",
        "    def play(self):\n",
        "        print(\"Playing the Guitar: Strumming the strings!\")\n",
        "\n",
        "class Piano(Instrument):\n",
        "    def play(self):\n",
        "        print(\"Playing the Piano: Pressing the keys!\")\n",
        "def play_instrument(instrument):\n",
        "    instrument.play()\n",
        "guitar = Guitar()\n",
        "piano = Piano()\n",
        "play_instrument(guitar)\n",
        "play_instrument(piano)\n"
      ],
      "metadata": {
        "colab": {
          "base_uri": "https://localhost:8080/"
        },
        "id": "INQcSuoHyld7",
        "outputId": "fb93bb81-705c-4b8e-968b-13b0fda18168"
      },
      "execution_count": null,
      "outputs": [
        {
          "output_type": "stream",
          "name": "stdout",
          "text": [
            "Playing the Guitar: Strumming the strings!\n",
            "Playing the Piano: Pressing the keys!\n"
          ]
        }
      ]
    },
    {
      "cell_type": "code",
      "source": [
        "# 7\n",
        "class MathOperations:\n",
        "    @staticmethod\n",
        "    def add_numbers(a, b):\n",
        "        return a + b\n",
        "\n",
        "    @staticmethod\n",
        "    def subtract_numbers(a, b):\n",
        "        return a - b\n",
        "\n",
        "m1=MathOperations()\n",
        "print(\"Addition:\", MathOperations.add_numbers(10, 5))\n",
        "print(\"Subtraction:\", MathOperations.subtract_numbers(10, 5))\n"
      ],
      "metadata": {
        "colab": {
          "base_uri": "https://localhost:8080/"
        },
        "id": "bTTHHD3uzatf",
        "outputId": "b1d8227b-3b1d-4964-96aa-3fb0a6cefefd"
      },
      "execution_count": null,
      "outputs": [
        {
          "output_type": "stream",
          "name": "stdout",
          "text": [
            "Addition: 15\n",
            "Subtraction: 5\n"
          ]
        }
      ]
    },
    {
      "cell_type": "code",
      "source": [
        "\n",
        "\n",
        "# 8\n",
        "class Person:\n",
        "  count=0\n",
        "  def __init__(self,name):\n",
        "    self.name=name\n",
        "    Person.count +=1\n",
        "  @classmethod\n",
        "  def total_person(cls):\n",
        "    return cls.count\n",
        "\n",
        "p1=Person(\"ram\")\n",
        "p2=Person(\"alice\")\n",
        "p3=Person('bob')\n",
        "print(Person.total_person())"
      ],
      "metadata": {
        "colab": {
          "base_uri": "https://localhost:8080/"
        },
        "id": "ezqLYB790urz",
        "outputId": "d0bc9b1a-5c6c-4835-a1d8-5f061f3ad321"
      },
      "execution_count": null,
      "outputs": [
        {
          "output_type": "stream",
          "name": "stdout",
          "text": [
            "3\n"
          ]
        }
      ]
    },
    {
      "cell_type": "code",
      "source": [
        "# 9\n",
        "class Fraction:\n",
        "    def __init__(self, numerator, denominator):\n",
        "        if denominator == 0:\n",
        "            raise ValueError(\"Denominator cannot be zero.\")\n",
        "        self.numerator = numerator\n",
        "        self.denominator = denominator\n",
        "\n",
        "    def __str__(self):\n",
        "        return f\"{self.numerator}/{self.denominator}\"\n",
        "f = Fraction(3, 4)\n",
        "print(f)\n"
      ],
      "metadata": {
        "colab": {
          "base_uri": "https://localhost:8080/"
        },
        "id": "GKiTEpUanHeS",
        "outputId": "63be78ae-f7a2-43fb-a757-efda88d79cff"
      },
      "execution_count": 1,
      "outputs": [
        {
          "output_type": "stream",
          "name": "stdout",
          "text": [
            "3/4\n"
          ]
        }
      ]
    },
    {
      "cell_type": "code",
      "source": [
        "# 10\n",
        "class Vector:\n",
        "    def __init__(self, x, y):\n",
        "        self.x = x\n",
        "        self.y = y\n",
        "\n",
        "    def __add__(self, other):\n",
        "        if not isinstance(other, Vector):\n",
        "            return NotImplemented\n",
        "        return Vector(self.x + other.x, self.y + other.y)\n",
        "\n",
        "    def __str__(self):\n",
        "        return f\"Vector({self.x}, {self.y})\"\n",
        "v1 = Vector(2, 3)\n",
        "v2 = Vector(4, 5)\n",
        "v3 = v1 + v2\n",
        "print(v3)\n"
      ],
      "metadata": {
        "colab": {
          "base_uri": "https://localhost:8080/"
        },
        "id": "6ffJni6Jnw8d",
        "outputId": "fb47a7b8-e21a-4dc9-d642-0d451110437d"
      },
      "execution_count": 2,
      "outputs": [
        {
          "output_type": "stream",
          "name": "stdout",
          "text": [
            "Vector(6, 8)\n"
          ]
        }
      ]
    },
    {
      "cell_type": "code",
      "source": [
        "# 11\n",
        "class Person:\n",
        "    def __init__(self, name, age):\n",
        "        self.name = name\n",
        "        self.age = age\n",
        "\n",
        "    def greet(self):\n",
        "        print(f\"Hello, my name is {self.name} and I am {self.age} years old.\")\n",
        "p = Person(\"Alice\", 25)\n",
        "p.greet()\n"
      ],
      "metadata": {
        "colab": {
          "base_uri": "https://localhost:8080/"
        },
        "id": "cUUKpLbGoXps",
        "outputId": "0ebf2265-b0fe-413d-c149-ff515090a91c"
      },
      "execution_count": 3,
      "outputs": [
        {
          "output_type": "stream",
          "name": "stdout",
          "text": [
            "Hello, my name is Alice and I am 25 years old.\n"
          ]
        }
      ]
    },
    {
      "cell_type": "code",
      "source": [
        "# 12\n",
        "class Student:\n",
        "  def __init__(self,name,grade):\n",
        "    self.name=name\n",
        "    self.grade=grade\n",
        "  def average_grade(self):\n",
        "    return sum (self.grade)/3\n",
        "s1=Student(\"ram\",[100,98,99])\n",
        "print(s1.average_grade())"
      ],
      "metadata": {
        "colab": {
          "base_uri": "https://localhost:8080/"
        },
        "id": "2OyBb518pDT2",
        "outputId": "6d4d112f-856b-4610-8e65-36ecb9cc008b"
      },
      "execution_count": 6,
      "outputs": [
        {
          "output_type": "stream",
          "name": "stdout",
          "text": [
            "99.0\n"
          ]
        }
      ]
    },
    {
      "cell_type": "code",
      "source": [
        "# 13\n",
        "class Rectangle:\n",
        "  def set_dimension(self,length,width):\n",
        "    self.length=length\n",
        "    self.width=width\n",
        "  def area(self):\n",
        "    return self.length*self.width\n",
        "\n",
        "r1=Rectangle()\n",
        "r1.set_dimension(10,20)\n",
        "print(r1.area())\n"
      ],
      "metadata": {
        "colab": {
          "base_uri": "https://localhost:8080/"
        },
        "id": "6w-aDznArAGa",
        "outputId": "4a901ebc-9ff6-48a6-87bc-5155e65283c8"
      },
      "execution_count": 9,
      "outputs": [
        {
          "output_type": "stream",
          "name": "stdout",
          "text": [
            "200\n"
          ]
        }
      ]
    },
    {
      "cell_type": "code",
      "source": [
        "# 14\n",
        "class Employee:\n",
        "  def __init__(self,name,hours_worked,hourly_rate):\n",
        "    self.name=name\n",
        "    self.hours_worked=hours_worked\n",
        "    self.hourly_rate=hourly_rate\n",
        "  def calculate_salary(self):\n",
        "    return self.hours_worked*self.hourly_rate\n",
        "class Manager(Employee):\n",
        "  def __init__(self,name,hours_worked,hourly_rate,bonus):\n",
        "    super().__init__(name,hours_worked,hourly_rate)\n",
        "    self.bonus=bonus\n",
        "  def calculate_salary(self):\n",
        "    return super().calculate_salary()+self.bonus\n",
        "e = Employee(\"John\", 40, 20)\n",
        "m = Manager(\"Alice\", 40, 30, 500)\n",
        "print(e.calculate_salary())\n",
        "print(m.calculate_salary())"
      ],
      "metadata": {
        "colab": {
          "base_uri": "https://localhost:8080/"
        },
        "id": "SM1scE5dt-VS",
        "outputId": "011b0c45-33a5-43a7-99b3-b0ea809153de"
      },
      "execution_count": 13,
      "outputs": [
        {
          "output_type": "stream",
          "name": "stdout",
          "text": [
            "800\n",
            "1700\n"
          ]
        }
      ]
    },
    {
      "cell_type": "code",
      "source": [
        "# 15\n",
        "class Product:\n",
        "  def __init__(self,name,price,quantity):\n",
        "    self.name=name\n",
        "    self.price=price\n",
        "    self.quantity=quantity\n",
        "  def total_price(self):\n",
        "    return self.price* self.quantity\n",
        "p1=Product(\"apple\",10,2)\n",
        "print(p1.total_price())\n"
      ],
      "metadata": {
        "colab": {
          "base_uri": "https://localhost:8080/"
        },
        "id": "lG0I5htVwqUA",
        "outputId": "4525f804-6028-485a-e423-01d713b84893"
      },
      "execution_count": 14,
      "outputs": [
        {
          "output_type": "stream",
          "name": "stdout",
          "text": [
            "20\n"
          ]
        }
      ]
    },
    {
      "cell_type": "code",
      "source": [
        "# 16\n",
        "class Animal:\n",
        "  @ staticmethod\n",
        "  def sound(self):\n",
        "    pass\n",
        "class Cow:\n",
        "  def sound(self):\n",
        "    return \"moo\"\n",
        "class Sheep:\n",
        "  def sound(self):\n",
        "    return \"baa\"\n",
        "c=Cow()\n",
        "s=Sheep()\n",
        "print(c.sound())\n",
        "print(s.sound())\n"
      ],
      "metadata": {
        "colab": {
          "base_uri": "https://localhost:8080/"
        },
        "id": "4xEsGwbPzRc3",
        "outputId": "2c93a4c6-3afc-4925-92ba-b552cff030e5"
      },
      "execution_count": 16,
      "outputs": [
        {
          "output_type": "stream",
          "name": "stdout",
          "text": [
            "moo\n",
            "baa\n"
          ]
        }
      ]
    },
    {
      "cell_type": "code",
      "source": [
        "# 17\n",
        "class Book:\n",
        "    def __init__(self, title, author, year_published):\n",
        "        self.title = title\n",
        "        self.author = author\n",
        "        self.year_published = year_published\n",
        "\n",
        "    def get_book_info(self):\n",
        "        return f\"{self.title} by {self.author}, published in {self.year_published}.\"\n",
        "\n",
        "b = Book(\"1984\", \"George Orwell\", 1949)\n",
        "print(b.get_book_info())\n"
      ],
      "metadata": {
        "colab": {
          "base_uri": "https://localhost:8080/"
        },
        "id": "ZyU4v4Mf04jN",
        "outputId": "86300a0b-6ab5-4680-bd5b-8dbb16dc8923"
      },
      "execution_count": 17,
      "outputs": [
        {
          "output_type": "stream",
          "name": "stdout",
          "text": [
            "1984 by George Orwell, published in 1949.\n"
          ]
        }
      ]
    },
    {
      "cell_type": "code",
      "source": [
        "# 18\n",
        "class House:\n",
        "  def __init__(self,address,price):\n",
        "    self.address=address\n",
        "    self.price=price\n",
        "class Mansion(House):\n",
        "  def __init__(self,address,price,room_no):\n",
        "    super().__init__(address,price)\n",
        "    self.room_no=room_no\n",
        "m1=Mansion(\"GT nagar\",1000000,30)\n",
        "print(m1.address)\n",
        "print(m1.price)\n",
        "print(m1.room_no)"
      ],
      "metadata": {
        "colab": {
          "base_uri": "https://localhost:8080/"
        },
        "id": "dqv_k31Y18QT",
        "outputId": "b9f41a30-8bca-4cc8-f537-11fc7259a4e6"
      },
      "execution_count": 21,
      "outputs": [
        {
          "output_type": "stream",
          "name": "stdout",
          "text": [
            "GT nagar\n",
            "1000000\n",
            "30\n"
          ]
        }
      ]
    },
    {
      "cell_type": "markdown",
      "source": [
        "1. What is Object-Oriented Programming ?\n",
        "   - Object-Oriented Programming (OOP) is a programming paradigm that organizes software design around objects rather than functions and logic. Objects are instances of classes that encapsulate data (attributes) and behavior (methods)."
      ],
      "metadata": {
        "id": "GYY1kULh3pFQ"
      }
    },
    {
      "cell_type": "markdown",
      "source": [
        "2. What is a class in OOP?\n",
        "  - A class in Object-Oriented Programming (OOP) is a blueprint or template for creating objects. It defines the attributes (variables) and methods (functions) that the objects created from the class will have."
      ],
      "metadata": {
        "id": "eHNZvAnR4Doy"
      }
    },
    {
      "cell_type": "code",
      "source": [],
      "metadata": {
        "id": "RuaElO-r4Vwy"
      },
      "execution_count": 24,
      "outputs": []
    },
    {
      "cell_type": "markdown",
      "source": [
        "3. In Object-Oriented Programming (OOP), an object is an instance of a class. It is a self-contained unit that contains both data (attributes) and methods (functions) that operate on the data. Objects represent real-world entities or concepts, and they interact with one another in a program to accomplish tasks.\n",
        "\n",
        "   Attributes (also known as fields or properties) are the characteristics or properties of an object. For example, if you have a Car class, attributes might include color, make, and model.\n",
        "\n",
        "   Methods (also known as functions or operations) define the behaviors or actions an object can perform. For example, a Car object might have methods like start(), stop(), and accelerate().\n",
        "\n",
        "   An object is created from a class blueprint and can have its own unique set of attribute values."
      ],
      "metadata": {
        "id": "Wr7V2Rpw4WQC"
      }
    },
    {
      "cell_type": "code",
      "source": [
        "class Car:\n",
        "    def __init__(self, color, make, model):\n",
        "        self.color = color\n",
        "        self.make = make\n",
        "        self.model = model\n",
        "\n",
        "    def start(self):\n",
        "        print(f\"The {self.make} {self.model} is starting.\")\n",
        "\n",
        "# Create an object (instance) of the Car class\n",
        "my_car = Car(\"Red\", \"Toyota\", \"Corolla\")\n",
        "\n",
        "# Accessing object's attributes and methods\n",
        "print(my_car.color)\n",
        "my_car.start()\n"
      ],
      "metadata": {
        "colab": {
          "base_uri": "https://localhost:8080/"
        },
        "id": "Vps5TZs94ySU",
        "outputId": "9ae7070a-0c83-4693-d274-7eb2f439df23"
      },
      "execution_count": 24,
      "outputs": [
        {
          "output_type": "stream",
          "name": "stdout",
          "text": [
            "Red\n",
            "The Toyota Corolla is starting.\n"
          ]
        }
      ]
    },
    {
      "cell_type": "markdown",
      "source": [
        "4. What is the difference between abstraction and encapsulation?\n",
        "   - Abstraction is the process of hiding the complexity and details of an implementation while exposing only the essential features or functionalities to the user.\n",
        "\n",
        "    Encapsulation is the concept of bundling the data (attributes) and the methods (functions) that operate on the data into a single unit, typically a class, and restricting access to some of the object's components. It is the idea of \"data hiding."
      ],
      "metadata": {
        "id": "9DZZnW045Upz"
      }
    },
    {
      "cell_type": "markdown",
      "source": [
        "5. What are dunder methods in Python?\n",
        "   - Dunder methods (also known as magic methods or special methods) in Python are methods that have double underscores before and after their names, e.g., __init__, __str__, __add__, etc. These methods allow you to define how objects of a class behave when they are used with various operators, functions, or built-in Python operations.\n",
        "\n",
        "    The term \"dunder\" comes from \"double underscore.\" These methods are automatically invoked by Python under specific circumstances."
      ],
      "metadata": {
        "id": "SNNS54Ii6m_v"
      }
    },
    {
      "cell_type": "code",
      "source": [
        "class Person:\n",
        "    def __init__(self, name, age):\n",
        "        self.name = name\n",
        "        self.age = age\n",
        "\n",
        "    def __str__(self):\n",
        "        return f\"{self.name}, {self.age} years old\"\n",
        "\n",
        "p = Person(\"Alice\", 30)\n",
        "print(p)\n"
      ],
      "metadata": {
        "colab": {
          "base_uri": "https://localhost:8080/"
        },
        "id": "Mnsw9Hqq7OnB",
        "outputId": "550c5baf-5f2d-4af0-8d12-3ee2c265f7b9"
      },
      "execution_count": 26,
      "outputs": [
        {
          "output_type": "stream",
          "name": "stdout",
          "text": [
            "Alice, 30 years old\n"
          ]
        }
      ]
    },
    {
      "cell_type": "markdown",
      "source": [
        "6. Explain the concept of inheritance in OOP?\n",
        "   - Inheritance is one of the core principles of Object-Oriented Programming (OOP), and it allows a class (called a child class or subclass) to inherit attributes and methods from another class (called a parent class or superclass). This mechanism promotes code reuse and establishes a relationship between classes, enabling hierarchical structures."
      ],
      "metadata": {
        "id": "J_NCW-Gu7eKP"
      }
    },
    {
      "cell_type": "code",
      "source": [
        "\n",
        "class Animal:\n",
        "    def __init__(self, name):\n",
        "        self.name = name\n",
        "\n",
        "    def speak(self):\n",
        "        print(f\"{self.name} makes a sound.\")\n",
        "class Dog(Animal):\n",
        "    def __init__(self, name, breed):\n",
        "        super().__init__(name)\n",
        "        self.breed = breed\n",
        "\n",
        "    def speak(self):\n",
        "        print(f\"{self.name} barks.\")\n",
        "dog = Dog(\"Buddy\", \"Golden Retriever\")\n",
        "print(dog.name)\n",
        "print(dog.breed)\n",
        "dog.speak()\n"
      ],
      "metadata": {
        "colab": {
          "base_uri": "https://localhost:8080/"
        },
        "id": "a33SdQNs8Ni7",
        "outputId": "c9a94d67-ecc6-4d11-c74a-d58d310b0943"
      },
      "execution_count": 28,
      "outputs": [
        {
          "output_type": "stream",
          "name": "stdout",
          "text": [
            "Buddy\n",
            "Golden Retriever\n",
            "Buddy barks.\n"
          ]
        }
      ]
    },
    {
      "cell_type": "markdown",
      "source": [
        "7. What is polymorphism in OOP?\n",
        "   - Polymorphism is another core concept in Object-Oriented Programming (OOP). The word \"polymorphism\" comes from the Greek words poly (meaning \"many\") and morph (meaning \"forms\"). In OOP, polymorphism refers to the ability of different classes to respond to the same method or operation in different ways.\n",
        "\n",
        "     In simple terms, polymorphism allows objects of different types to be treated as objects of a common base type. The specific method that gets executed depends on the type of the object that invokes the method. It enables you to write more generic and reusable code."
      ],
      "metadata": {
        "id": "F6mJn7Ez8ecO"
      }
    },
    {
      "cell_type": "code",
      "source": [
        "class Math:\n",
        "    def add(self, a, b, c=0):\n",
        "        return a + b + c\n",
        "\n",
        "math = Math()\n",
        "print(math.add(2, 3))\n",
        "print(math.add(2, 3, 4))\n"
      ],
      "metadata": {
        "colab": {
          "base_uri": "https://localhost:8080/"
        },
        "id": "Ut8OakrL82jk",
        "outputId": "3b65a435-6abd-4cff-d439-f5c0d7dc69e9"
      },
      "execution_count": 30,
      "outputs": [
        {
          "output_type": "stream",
          "name": "stdout",
          "text": [
            "5\n",
            "9\n"
          ]
        }
      ]
    },
    {
      "cell_type": "markdown",
      "source": [
        "8. How is encapsulation achieved in Python ?\n",
        "   - In Python, encapsulation is achieved by restricting direct access to an object's internal state and providing controlled access through getter and setter methods. Encapsulation helps protect the integrity of an object's data by ensuring that it can only be modified or accessed in a controlled manner.\n",
        "\n",
        "    Python does not have strict access modifiers like private, protected, or public (as seen in languages like Java or C++), but it uses a convention of prefixing variable names to indicate their intended visibility."
      ],
      "metadata": {
        "id": "96jgRYSL9Y2i"
      }
    },
    {
      "cell_type": "code",
      "source": [
        "class Person:\n",
        "    def __init__(self, name, age):\n",
        "        self.__name = name\n",
        "        self.__age = age\n",
        "\n",
        "    def get_name(self):\n",
        "        return self.__name\n",
        "\n",
        "    def set_age(self, age):\n",
        "        if age > 0:\n",
        "            self.__age = age\n",
        "        else:\n",
        "            print(\"Age must be positive.\")\n",
        "\n",
        "    def get_age(self):\n",
        "        return self.__age\n",
        "\n",
        "person = Person(\"Alice\", 30)\n",
        "print(person.get_name())\n",
        "person.set_age(35)\n",
        "print(person.get_age())\n"
      ],
      "metadata": {
        "colab": {
          "base_uri": "https://localhost:8080/"
        },
        "id": "u35XBQ3b91NN",
        "outputId": "5c8ecc4c-178f-47b0-f1e5-11783e6c65ad"
      },
      "execution_count": 34,
      "outputs": [
        {
          "output_type": "stream",
          "name": "stdout",
          "text": [
            "Alice\n",
            "35\n"
          ]
        }
      ]
    },
    {
      "cell_type": "markdown",
      "source": [
        "9.What is a constructor in Python?\n",
        "   - In Python, a constructor is a special method used to initialize the attributes of a newly created object. It is automatically called when an object of a class is instantiated. The constructor is used to set up initial values for the object's state.\n",
        "\n",
        "   The constructor in Python is defined using the special method __init__()."
      ],
      "metadata": {
        "id": "Ldg_cT28-EWD"
      }
    },
    {
      "cell_type": "code",
      "source": [
        "class Person:\n",
        "    def __init__(self, name, age):\n",
        "        self.name = name\n",
        "        self.age = age\n",
        "\n",
        "    def display_info(self):\n",
        "        print(f\"Name: {self.name}, Age: {self.age}\")\n",
        "person1 = Person(\"Alice\", 30)\n",
        "person2 = Person(\"Bob\", 25)\n",
        "person1.display_info()\n",
        "person2.display_info()\n"
      ],
      "metadata": {
        "colab": {
          "base_uri": "https://localhost:8080/"
        },
        "id": "NG0tpaKx-fR2",
        "outputId": "0efb1c9c-4517-4116-ad7d-0e23569a01dc"
      },
      "execution_count": 35,
      "outputs": [
        {
          "output_type": "stream",
          "name": "stdout",
          "text": [
            "Name: Alice, Age: 30\n",
            "Name: Bob, Age: 25\n"
          ]
        }
      ]
    },
    {
      "cell_type": "markdown",
      "source": [
        "10. What are class and static methods in Python?\n",
        "  - A class method is a method that is bound to the class and not to the instance of the class. It takes the class as its first argument, conventionally named cls, instead of self (which refers to an instance). A class method can access and modify class-level attributes, but it cannot access instance-specific attributes unless an instance is passed explicitly.\n",
        "\n",
        "     A static method is a method that does not take the class (cls) or instance (self) as its first argument. It behaves like a regular function but belongs to the class's namespace. Static methods are used when the method’s logic is not related to the instance or the class but still needs to be encapsulated within the class."
      ],
      "metadata": {
        "id": "pQl8u35S_Cbi"
      }
    },
    {
      "cell_type": "code",
      "source": [
        "class MathOperations:\n",
        "\n",
        "    @staticmethod\n",
        "    def add(a, b):\n",
        "        return a + b\n",
        "\n",
        "    @staticmethod\n",
        "    def multiply(a, b):\n",
        "        return a * b\n",
        "result1 = MathOperations.add(10, 5)\n",
        "result2 = MathOperations.multiply(10, 5)\n",
        "\n",
        "print(f\"Addition: {result1}\")\n",
        "print(f\"Multiplication: {result2}\")\n"
      ],
      "metadata": {
        "colab": {
          "base_uri": "https://localhost:8080/"
        },
        "id": "W1W6Rebh_ppa",
        "outputId": "d5e66dc3-c15a-4a96-ee48-860a0ffdd41b"
      },
      "execution_count": 36,
      "outputs": [
        {
          "output_type": "stream",
          "name": "stdout",
          "text": [
            "Addition: 15\n",
            "Multiplication: 50\n"
          ]
        }
      ]
    },
    {
      "cell_type": "code",
      "source": [
        "class Car:\n",
        "    number_of_wheels = 4\n",
        "\n",
        "    def __init__(self, make, model):\n",
        "        self.make = make\n",
        "        self.model = model\n",
        "\n",
        "    @classmethod\n",
        "    def set_wheels(cls, wheels):\n",
        "        cls.number_of_wheels = wheels\n",
        "\n",
        "    @classmethod\n",
        "    def display_info(cls):\n",
        "        print(f\"Number of wheels: {cls.number_of_wheels}\")\n",
        "Car.display_info()\n",
        "Car.set_wheels(6)\n",
        "Car.display_info()\n"
      ],
      "metadata": {
        "colab": {
          "base_uri": "https://localhost:8080/"
        },
        "id": "_E54VIRR_3wp",
        "outputId": "366c0c1a-fc5c-4975-c524-f51bbab53049"
      },
      "execution_count": 38,
      "outputs": [
        {
          "output_type": "stream",
          "name": "stdout",
          "text": [
            "Number of wheels: 4\n",
            "Number of wheels: 6\n"
          ]
        }
      ]
    },
    {
      "cell_type": "markdown",
      "source": [
        "11. What is method overloading in Python?\n",
        "   - In Python, method overloading refers to the ability to define multiple methods with the same name but different argument types or numbers of arguments. This concept is common in many programming languages like Java or C++, but Python does not support traditional method overloading directly, as it allows only one method with a given name in a class.\n",
        "\n",
        "       However, Python provides ways to simulate method overloading using default parameters, variable-length arguments (*args and **kwargs), and conditional logic inside a method to handle different types or numbers of arguments."
      ],
      "metadata": {
        "id": "lJ24b0RfAK4g"
      }
    },
    {
      "cell_type": "code",
      "source": [
        "class Calculator:\n",
        "    def add(self, *args):\n",
        "        return sum(args)\n",
        "\n",
        "calc = Calculator()\n",
        "print(calc.add(5))\n",
        "print(calc.add(5, 3))\n",
        "print(calc.add(1, 2, 3, 4))\n"
      ],
      "metadata": {
        "colab": {
          "base_uri": "https://localhost:8080/"
        },
        "id": "OuTQySxyAgCa",
        "outputId": "a2f502de-429c-4481-96ee-52f9223b07b7"
      },
      "execution_count": 40,
      "outputs": [
        {
          "output_type": "stream",
          "name": "stdout",
          "text": [
            "5\n",
            "8\n",
            "10\n"
          ]
        }
      ]
    },
    {
      "cell_type": "markdown",
      "source": [
        "12.What is method overriding in OOP?\n",
        "   -  Method overriding in Object-Oriented Programming (OOP) refers to the process where a subclass provides a specific implementation of a method that is already defined in its superclass. When a method in a subclass has the same name and signature as a method in the superclass, the subclass method overrides the superclass method. This allows the subclass to provide its own behavior for that method, while still maintaining the same interface.\n"
      ],
      "metadata": {
        "id": "ta1XnMsjBMSp"
      }
    },
    {
      "cell_type": "code",
      "source": [
        "class Animal:\n",
        "    def speak(self):\n",
        "        print(\"The animal makes a sound.\")\n",
        "\n",
        "class Dog(Animal):\n",
        "    def speak(self):\n",
        "        print(\"The dog barks.\")\n",
        "\n",
        "class Cat(Animal):\n",
        "    def speak(self):\n",
        "        print(\"The cat meows.\")\n",
        "dog = Dog()\n",
        "cat = Cat()\n",
        "dog.speak()\n",
        "cat.speak()\n"
      ],
      "metadata": {
        "colab": {
          "base_uri": "https://localhost:8080/"
        },
        "id": "hcvqNjcoBthR",
        "outputId": "25cdb41b-6126-4e69-ba05-103788885bba"
      },
      "execution_count": 42,
      "outputs": [
        {
          "output_type": "stream",
          "name": "stdout",
          "text": [
            "The dog barks.\n",
            "The cat meows.\n"
          ]
        }
      ]
    },
    {
      "cell_type": "markdown",
      "source": [
        "13. What is a property decorator in Python?\n",
        "   - In Python, the @property decorator is a built-in decorator that allows you to define a method as a getter for an attribute. This enables you to access the method like an attribute without explicitly calling it as a method. It is typically used to create read-only attributes or to control the access to an instance variable in a more Pythonic way, providing a cleaner and more intuitive interface for getting and setting attributes."
      ],
      "metadata": {
        "id": "ImGoiItSCCth"
      }
    },
    {
      "cell_type": "code",
      "source": [
        "class Circle:\n",
        "    def __init__(self, radius):\n",
        "        self._radius = radius\n",
        "\n",
        "    @property\n",
        "    def radius(self):\n",
        "        return self._radius\n",
        "\n",
        "    @property\n",
        "    def area(self):\n",
        "        return 3.14159 * self._radius ** 2\n",
        "\n",
        "    @property\n",
        "    def diameter(self):\n",
        "        return 2 * self._radius\n",
        "circle = Circle(5)\n",
        "print(circle.radius)\n",
        "print(circle.area)\n",
        "print(circle.diameter)\n"
      ],
      "metadata": {
        "colab": {
          "base_uri": "https://localhost:8080/"
        },
        "id": "EnZDYb_FCVKG",
        "outputId": "2bdf629d-9781-4324-f095-5bbd2102285c"
      },
      "execution_count": 43,
      "outputs": [
        {
          "output_type": "stream",
          "name": "stdout",
          "text": [
            "5\n",
            "78.53975\n",
            "10\n"
          ]
        }
      ]
    },
    {
      "cell_type": "markdown",
      "source": [
        "14. Why is polymorphism important in OOP ?\n",
        "   - Polymorphism is one of the four fundamental principles of Object-Oriented Programming (OOP) and plays a crucial role in making code more flexible, reusable, and maintainable. The word \"polymorphism\" comes from the Greek words \"poly\" (many) and \"morph\" (form), meaning the ability to take many forms."
      ],
      "metadata": {
        "id": "YfZI3hSsCzLR"
      }
    },
    {
      "cell_type": "code",
      "source": [
        "class Shape:\n",
        "    def area(self):\n",
        "        pass\n",
        "\n",
        "class Circle(Shape):\n",
        "    def __init__(self, radius):\n",
        "        self.radius = radius\n",
        "\n",
        "    def area(self):\n",
        "        return 3.14159 * self.radius ** 2\n",
        "\n",
        "class Rectangle(Shape):\n",
        "    def __init__(self, width, height):\n",
        "        self.width = width\n",
        "        self.height = height\n",
        "\n",
        "    def area(self):\n",
        "        return self.width * self.height\n",
        "\n",
        "shapes = [Circle(5), Rectangle(4, 6)]\n",
        "for shape in shapes:\n",
        "    print(shape.area())"
      ],
      "metadata": {
        "colab": {
          "base_uri": "https://localhost:8080/"
        },
        "id": "u8Fw8paNDDkW",
        "outputId": "9cc5031b-78e6-4821-e875-d6638692299d"
      },
      "execution_count": 44,
      "outputs": [
        {
          "output_type": "stream",
          "name": "stdout",
          "text": [
            "78.53975\n",
            "24\n"
          ]
        }
      ]
    },
    {
      "cell_type": "markdown",
      "source": [
        "15. What is an abstract class in Python ?\n",
        "   - An abstract class in Python is a class that cannot be instantiated directly. It is meant to be subclassed by other classes, and it defines methods that must be implemented by its subclasses. Abstract classes are used to create a blueprint for other classes, ensuring that certain methods are always present in the subclasses, but without providing a concrete implementation in the abstract class itself.\n",
        "\n",
        "     In Python, abstract classes are created using the abc module (Abstract Base Class), and the abstract methods are marked using the @abstractmethod decorator."
      ],
      "metadata": {
        "id": "Jdf6HDaiDUu4"
      }
    },
    {
      "cell_type": "markdown",
      "source": [
        "16. What are the advantages of OOP?\n",
        "   - OOP provides a set of powerful features that promote code reuse, modularity, flexibility, maintainability, and scalability. It encourages well-organized code, reduces redundancy, and enhances collaboration among developers. By structuring software as a collection of interacting objects, OOP makes it easier to develop complex applications while keeping the codebase maintainable and adaptable to changes."
      ],
      "metadata": {
        "id": "DrFNA4wiDqXW"
      }
    },
    {
      "cell_type": "markdown",
      "source": [
        "17. What is the difference between a class variable and an instance variable?\n",
        "   - A class variable is a variable that is defined inside the class but outside any instance methods (i.e., methods that belong to objects). It is shared by all instances of the class.\n",
        "Class variables are typically used for data that is common across all instances of a class, such as counters or configuration settings.\n",
        "\n",
        "      A class variable is a variable that is defined inside the class but outside any instance methods (i.e., methods that belong to objects). It is shared by all instances of the class.\n",
        "Class variables are typically used for data that is common across all instances of a class, such as counters or configuration settings.\n",
        "\n"
      ],
      "metadata": {
        "id": "fBtD-ywaEBiW"
      }
    },
    {
      "cell_type": "code",
      "source": [
        "class Car:\n",
        "    wheels = 4\n",
        "\n",
        "    def __init__(self, brand, model):\n",
        "        self.brand = brand\n",
        "        self.model = model\n",
        "car1 = Car(\"Toyota\", \"Corolla\")\n",
        "car2 = Car(\"Honda\", \"Civic\")\n",
        "\n",
        "print(car1.wheels)\n",
        "print(car2.wheels)\n",
        "\n",
        "print(car1.brand)\n",
        "print(car2.brand)\n",
        "car1.brand = \"Ford\"\n",
        "\n",
        "print(car1.brand)\n",
        "print(car2.brand)\n",
        "Car.wheels = 5\n",
        "print(car1.wheels)\n",
        "print(car2.wheels)\n"
      ],
      "metadata": {
        "colab": {
          "base_uri": "https://localhost:8080/"
        },
        "id": "DcAyfQePEeWi",
        "outputId": "514e4da8-94ad-4360-efe9-ead6bd7b90c7"
      },
      "execution_count": 45,
      "outputs": [
        {
          "output_type": "stream",
          "name": "stdout",
          "text": [
            "4\n",
            "4\n",
            "Toyota\n",
            "Honda\n",
            "Ford\n",
            "Honda\n",
            "5\n",
            "5\n"
          ]
        }
      ]
    },
    {
      "cell_type": "markdown",
      "source": [
        "18. What is multiple inheritance in Python ?\n",
        "   - Multiple inheritance in Python refers to a feature where a class can inherit from more than one parent class. This allows a subclass to inherit attributes and methods from multiple base classes, enabling more flexible and reusable code. Multiple inheritance provides the ability to combine the functionality of multiple classes into a single class."
      ],
      "metadata": {
        "id": "6LBZAOdmFE68"
      }
    },
    {
      "cell_type": "code",
      "source": [
        "class Animal:\n",
        "    def speak(self):\n",
        "        print(\"Animal makes a sound\")\n",
        "\n",
        "class Mammal(Animal):\n",
        "    def has_fur(self):\n",
        "        print(\"Mammals have fur\")\n",
        "\n",
        "class Bird(Animal):\n",
        "    def can_fly(self):\n",
        "        print(\"Birds can fly\")\n",
        "\n",
        "class Bat(Mammal, Bird):\n",
        "    def fly_and_speak(self):\n",
        "        self.can_fly()\n",
        "        self.speak()\n",
        "        self.has_fur()\n",
        "bat = Bat()\n",
        "bat.fly_and_speak()\n"
      ],
      "metadata": {
        "colab": {
          "base_uri": "https://localhost:8080/"
        },
        "id": "Dq7r8MGLFYOO",
        "outputId": "dd4202a9-6eb0-4692-dc78-435e4f4c9ed3"
      },
      "execution_count": 46,
      "outputs": [
        {
          "output_type": "stream",
          "name": "stdout",
          "text": [
            "Birds can fly\n",
            "Animal makes a sound\n",
            "Mammals have fur\n"
          ]
        }
      ]
    },
    {
      "cell_type": "markdown",
      "source": [
        "19.Explain the purpose of ‘’__str__’ and ‘__repr__’ ‘ methods in Python?\n",
        "   - The __str__() method is used to define a human-readable string representation of an object. It is called by the str() function and is also used when you print an object.\n",
        "\n",
        "     The __repr__() method is used to define a formal string representation of an object. It is meant to be unambiguous and ideally should allow the object to be recreated (i.e., the output of __repr__() should be a valid Python expression that, when passed to eval(), would produce the same object)."
      ],
      "metadata": {
        "id": "FeRzNZPmFx1B"
      }
    },
    {
      "cell_type": "markdown",
      "source": [
        "20. What is the significance of the ‘super()’ function in Python ?\n",
        "   - The super() function in Python is a built-in function that is used to call a method from a parent class (or superclass) in a child class. It provides a way to access methods in a parent class without directly referring to the parent class name, making the code more maintainable and flexible."
      ],
      "metadata": {
        "id": "rf6TiZXCGHie"
      }
    },
    {
      "cell_type": "code",
      "source": [
        "class Animal:\n",
        "    def __init__(self, name):\n",
        "        self.name = name\n",
        "\n",
        "    def speak(self):\n",
        "        print(f\"{self.name} makes a sound\")\n",
        "\n",
        "class Dog(Animal):\n",
        "    def __init__(self, name, breed):\n",
        "        super().__init__(name)\n",
        "        self.breed = breed\n",
        "\n",
        "    def speak(self):\n",
        "        super().speak()\n",
        "        print(f\"{self.name} barks!\")\n",
        "dog = Dog(\"Rex\", \"German Shepherd\")\n",
        "dog.speak()\n"
      ],
      "metadata": {
        "colab": {
          "base_uri": "https://localhost:8080/"
        },
        "id": "sdZjCPW8GdsD",
        "outputId": "716ee9e0-5e8e-4545-e0a5-ea1cb79cc1eb"
      },
      "execution_count": 47,
      "outputs": [
        {
          "output_type": "stream",
          "name": "stdout",
          "text": [
            "Rex makes a sound\n",
            "Rex barks!\n"
          ]
        }
      ]
    },
    {
      "cell_type": "markdown",
      "source": [
        "21. What is the significance of the __del__ method in Python?\n",
        "   - The __del__ method in Python is a special method, also known as a destructor, that is automatically called when an object is garbage collected (i.e., when it is about to be destroyed). It is typically used to clean up resources that the object may have acquired during its lifetime, such as closing files, releasing network connections, or deallocating memory.\n",
        ""
      ],
      "metadata": {
        "id": "6u2JXoV9GlSL"
      }
    },
    {
      "cell_type": "markdown",
      "source": [
        "22.  What is the difference between @staticmethod and @classmethod in Python?\n",
        "   - A static method does not take any special first argument like self or cls.\n",
        "It does not have access to the instance (self) or the class (cls) that it is defined in.\n",
        "It is just like a regular function, but it is bound to the class's namespace and can be called on the class or an instance.\n",
        "\n",
        "        A class method takes cls as its first argument (instead of self for instance methods). cls refers to the class itself, not an instance of the class.\n",
        "Class methods can access and modify class-level attributes, and they are used when you need to operate on the class rather than an individual instance.\n",
        "You can call a class method on the class itself or on an instance."
      ],
      "metadata": {
        "id": "rIKXNAWpHJdN"
      }
    },
    {
      "cell_type": "code",
      "source": [
        "class MathOperations:\n",
        "    @staticmethod\n",
        "    def add(x, y):\n",
        "        return x + y\n",
        "\n",
        "print(MathOperations.add(5, 3))\n"
      ],
      "metadata": {
        "colab": {
          "base_uri": "https://localhost:8080/"
        },
        "id": "9BvQepgxHpIB",
        "outputId": "00f1ee4c-87df-4948-842c-a1bac4a2a05e"
      },
      "execution_count": 48,
      "outputs": [
        {
          "output_type": "stream",
          "name": "stdout",
          "text": [
            "8\n"
          ]
        }
      ]
    },
    {
      "cell_type": "code",
      "source": [
        "class Animal:\n",
        "    species = \"Unknown\"\n",
        "\n",
        "    def __init__(self, name):\n",
        "        self.name = name\n",
        "\n",
        "    @classmethod\n",
        "    def set_species(cls, species_name):\n",
        "        cls.species = species_name\n",
        "\n",
        "Animal.set_species(\"Dog\")\n",
        "dog = Animal(\"Buddy\")\n",
        "print(dog.species)\n"
      ],
      "metadata": {
        "colab": {
          "base_uri": "https://localhost:8080/"
        },
        "id": "zulSIxnCH0DJ",
        "outputId": "72730758-687f-4097-8b07-03e0ff2ec8db"
      },
      "execution_count": 49,
      "outputs": [
        {
          "output_type": "stream",
          "name": "stdout",
          "text": [
            "Dog\n"
          ]
        }
      ]
    },
    {
      "cell_type": "markdown",
      "source": [
        "23. How does polymorphism work in Python with inheritance?\n",
        "   - Polymorphism in Python, particularly with inheritance, allows objects of different classes to be treated as objects of a common superclass. This enables one interface to be used for a variety of different data types or classes. The primary benefit of polymorphism is that you can write more flexible and reusable code, as it allows different classes to define methods with the same name but potentially different behaviors."
      ],
      "metadata": {
        "id": "nSgWUzlYH4n0"
      }
    },
    {
      "cell_type": "code",
      "source": [
        "class Animal:\n",
        "    def speak(self):\n",
        "        print(\"Animal makes a sound\")\n",
        "\n",
        "class Dog(Animal):\n",
        "    def speak(self):\n",
        "        print(\"Dog barks\")\n",
        "\n",
        "class Cat(Animal):\n",
        "    def speak(self):\n",
        "        print(\"Cat meows\")\n",
        "\n",
        "class Cow(Animal):\n",
        "    def speak(self):\n",
        "        print(\"Cow moos\")\n",
        "animals = [Dog(), Cat(), Cow()]\n",
        "\n",
        "for animal in animals:\n",
        "    animal.speak()\n"
      ],
      "metadata": {
        "colab": {
          "base_uri": "https://localhost:8080/"
        },
        "id": "ETC2QwP-IJcT",
        "outputId": "fd4ecbcf-e513-4ef9-8878-60c9ea8654d0"
      },
      "execution_count": 50,
      "outputs": [
        {
          "output_type": "stream",
          "name": "stdout",
          "text": [
            "Dog barks\n",
            "Cat meows\n",
            "Cow moos\n"
          ]
        }
      ]
    },
    {
      "cell_type": "markdown",
      "source": [
        "24. What is method chaining in Python OOP?\n",
        "   - Method chaining in Python OOP is a technique where multiple method calls are made on the same object, one after the other, in a single line of code. This is achieved by having each method return the object itself (self), allowing the next method to be called on that object."
      ],
      "metadata": {
        "id": "mUIAVUi-IUiA"
      }
    },
    {
      "cell_type": "markdown",
      "source": [
        "25. What is the purpose of the __call__ method in Python?\n",
        "   - The __call__ method in Python is a special method that allows an instance of a class to be called like a function. When the __call__ method is implemented in a class, an object of that class becomes callable, meaning you can \"call\" it with parentheses, just like a regular function or method.\n"
      ],
      "metadata": {
        "id": "zX0ypLzmIuZB"
      }
    },
    {
      "cell_type": "code",
      "source": [
        "class Adder:\n",
        "    def __init__(self, value):\n",
        "        self.value = value\n",
        "\n",
        "    def __call__(self, num):\n",
        "        return self.value + num\n",
        "add_five = Adder(5)\n",
        "result = add_five(10)\n",
        "print(result)\n"
      ],
      "metadata": {
        "colab": {
          "base_uri": "https://localhost:8080/"
        },
        "id": "giQVOcCbJAuo",
        "outputId": "f2e374fe-bf3f-4a4d-e6b7-fc98c1209ec8"
      },
      "execution_count": 51,
      "outputs": [
        {
          "output_type": "stream",
          "name": "stdout",
          "text": [
            "15\n"
          ]
        }
      ]
    }
  ]
}